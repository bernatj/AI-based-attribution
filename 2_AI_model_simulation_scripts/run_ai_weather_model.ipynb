{
 "cells": [
  {
   "cell_type": "markdown",
   "metadata": {},
   "source": [
    "# Instructions:\n",
    "\n",
    "Before being able to run this notebook to run the AI model please follow the points below:\n",
    "\n",
    "1. Git clone the following repository: `git clone https://github.com/jejjohnson/ddf.git`\n",
    "2. Add path path to where you have clone the repository in : `sys.path.append('path/to/ddp/installation')`\n",
    "3. Run the following code in the same order as provided and modify the simluation configuration as you like."
   ]
  },
  {
   "cell_type": "code",
   "execution_count": 1,
   "metadata": {},
   "outputs": [],
   "source": [
    "import sys\n",
    "sys.path.append('/home/bernatj/ddf')\n",
    "\n",
    "import numpy as np\n",
    "from pathlib import Path\n",
    "import xarray as xr\n",
    "import os\n",
    "import datetime\n",
    "from earth2mip import inference_ensemble, registry\n",
    "from earth2mip.networks import get_model\n",
    "from earth2mip.initial_conditions import cds\n",
    "from earth2mip.inference_ensemble import run_basic_inference\n",
    "from ddf._src.data.local.xrda import LocalDataSourceXArray"
   ]
  },
  {
   "cell_type": "markdown",
   "metadata": {},
   "source": [
    "### Chose model and GPU device you want to run it"
   ]
  },
  {
   "cell_type": "code",
   "execution_count": 2,
   "metadata": {},
   "outputs": [],
   "source": [
    "model_name = \"fcnv2_sm\" # \"pangu_6\" #change for different model names\n",
    "model = f\"e2mip://{model_name}\"\n",
    "device = \"cuda:0\""
   ]
  },
  {
   "cell_type": "markdown",
   "metadata": {},
   "source": [
    "### We load the model on the GPU"
   ]
  },
  {
   "cell_type": "code",
   "execution_count": 3,
   "metadata": {},
   "outputs": [],
   "source": [
    "time_loop  = get_model(\n",
    "    model=model,\n",
    "    device=device,\n",
    ")\n",
    "channel_names = time_loop.in_channel_names"
   ]
  },
  {
   "cell_type": "markdown",
   "metadata": {},
   "source": [
    "### **Configuration Section**"
   ]
  },
  {
   "cell_type": "code",
   "execution_count": 4,
   "metadata": {},
   "outputs": [],
   "source": [
    "#configuration\n",
    "file_format = 'grib' # netcdf #\n",
    "ai_model='fcnv2'     # pangu #\n",
    "\n",
    "#we want to run our model for different dates\n",
    "t0_i = datetime.datetime(2018,8,8,18)\n",
    "t0_f = datetime.datetime(2018,8,8,18)\n",
    "delta_h = 6\n",
    "\n",
    "# number of forecast steps (15 days in this case)\n",
    "num_steps = 4 * 15 # 6h intervals\n",
    "\n",
    "#change depending on where you have your initial conditions data\n",
    "root=f'/home/bernatj/Data/ai-forecasts/input/{file_format}'\n",
    "ic_type='' # 'PGW_multimodel_'                              # use this second option to run the PGW simulations\n",
    "outputdir=\"/home/bernatj/Data/ai-forecasts/fcst/\"           #output directory\n",
    "\n",
    "#Selection of the variables you wnat to save: \n",
    "vars_to_save = ['t2m', 'msl', 'v100', 'u100', 'u850', 'v850', 't850', 'z500','tcwv']\n"
   ]
  },
  {
   "cell_type": "code",
   "execution_count": 5,
   "metadata": {},
   "outputs": [],
   "source": [
    "#generate inititialisation times \n",
    "init_times = []\n",
    "current_time = t0_i\n",
    "while current_time <= t0_f:\n",
    "    init_times.append(current_time)\n",
    "    current_time += datetime.timedelta(hours=delta_h)\n",
    "\n",
    "#depending on the file format chosen we need to change this parameters\n",
    "if file_format == 'grib':\n",
    "    ending='grib'\n",
    "    engine='cfgrib'\n",
    "elif file_format == 'netcdf':\n",
    "    ending='nc'\n",
    "    engine='netcdf4'"
   ]
  },
  {
   "cell_type": "markdown",
   "metadata": {},
   "source": [
    "- We define a function to be able to run the  AI weather model for any init date"
   ]
  },
  {
   "cell_type": "code",
   "execution_count": 6,
   "metadata": {},
   "outputs": [],
   "source": [
    "def do_forecast(channel_names, file_paths, pressure_name='isobaricInhPa', engine='netcdf4'):\n",
    "    \"\"\"\n",
    "    Perform an AI weather forecast using specified atmospheric data channels and files.\n",
    "\n",
    "    This function initializes a data source using the provided channel names and file paths,\n",
    "    then runs a basic inference model to produce a forecast.\n",
    "\n",
    "    Parameters:\n",
    "    - channel_names (list of str): A list of names of the data channels to be used in the forecast.\n",
    "      These typically represent different atmospheric variables (e.g., temperature, humidity).\n",
    "    - file_paths (list of str): A list of file paths to the data files that contain the necessary\n",
    "      atmospheric information for the forecast.\n",
    "    - pressure_name (str, optional): The name used to identify the pressure levels in the data.\n",
    "    - engine (str, optional): The engine to be used for reading the data files. Defaults to 'netcdf4',\n",
    "      which is a common format for atmospheric data files.\n",
    "\n",
    "    Returns:\n",
    "    - forecast: The forecast result generated by the model.\n",
    "    \"\"\"\n",
    "    # Get the initial data\n",
    "    data_source_xr = LocalDataSourceXArray(\n",
    "        channel_names=channel_names,\n",
    "        file_paths=file_paths,\n",
    "        pressure_name=pressure_name, \n",
    "        name_convention=\"short_name\",\n",
    "        engine=engine, \n",
    "    )\n",
    "\n",
    "    # Run the model\n",
    "    forecast = run_basic_inference(\n",
    "        time_loop, \n",
    "        n=num_steps, \n",
    "        data_source=data_source_xr, \n",
    "        time=t0\n",
    "    )\n",
    "\n",
    "    return forecast\n"
   ]
  },
  {
   "cell_type": "markdown",
   "metadata": {},
   "source": [
    "### Example of how we can quickly tun the model for a series of initialization dates"
   ]
  },
  {
   "cell_type": "code",
   "execution_count": 7,
   "metadata": {},
   "outputs": [
    {
     "name": "stdout",
     "output_type": "stream",
     "text": [
      "t2m\n",
      "msl\n",
      "v100\n",
      "u100\n",
      "u850\n",
      "v850\n",
      "t850\n",
      "z500\n",
      "tcwv\n",
      "finished forecast for init 2018-08-08 18:00:00\n"
     ]
    }
   ],
   "source": [
    "for t0 in init_times:\n",
    "\n",
    "    yyyymmddhh = t0.strftime('%Y%m%d%H')\n",
    "    \n",
    "    file_paths = [  \n",
    "    f\"{root}/{yyyymmddhh}/{ai_model}_sl_{ic_type}{yyyymmddhh}.{ending}\",\n",
    "    f\"{root}/{yyyymmddhh}/{ai_model}_pl_{ic_type}{yyyymmddhh}.{ending}\"\n",
    "    ]\n",
    "    \n",
    "    #run one forecast\n",
    "    forecast = do_forecast(channel_names, file_paths, engine=engine)\n",
    "\n",
    "    #store the data in the outputdir. One file per varibale\n",
    "    os.makedirs(outputdir+'/'+yyyymmddhh, exist_ok=True)\n",
    "    for var in vars_to_save:\n",
    "        print(var)\n",
    "        forecast.sel(channel=var).squeeze().drop_vars('channel').to_dataset(name=var).to_netcdf(outputdir+f'{yyyymmddhh}/{var}_{ai_model}_{ic_type}{yyyymmddhh}.nc')\n",
    "\n",
    "    print(f'finished forecast for init {t0}')"
   ]
  }
 ],
 "metadata": {
  "kernelspec": {
   "display_name": "Python 3 (ipykernel)",
   "language": "python",
   "name": "python3"
  },
  "language_info": {
   "codemirror_mode": {
    "name": "ipython",
    "version": 3
   },
   "file_extension": ".py",
   "mimetype": "text/x-python",
   "name": "python",
   "nbconvert_exporter": "python",
   "pygments_lexer": "ipython3",
   "version": "3.10.14"
  }
 },
 "nbformat": 4,
 "nbformat_minor": 4
}
